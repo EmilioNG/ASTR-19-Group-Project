{
 "cells": [
  {
   "cell_type": "code",
   "execution_count": 66,
   "id": "428ab73b-b9e6-4a3a-9474-86127203cb90",
   "metadata": {
    "jupyter": {
     "source_hidden": true
    }
   },
   "outputs": [],
   "source": [
    "import numpy as np"
   ]
  },
  {
   "cell_type": "code",
   "execution_count": 67,
   "id": "c8fa734c-46e6-43bb-9802-4da9357df5d1",
   "metadata": {},
   "outputs": [],
   "source": [
    "def timeToDecimal(a):\n",
    "    x = 0\n",
    "    y = 0\n",
    "    if len(a) == 4:\n",
    "        x = float(a[0:1])\n",
    "        y = float(a[2:])\n",
    "        \n",
    "    if len(a) == 5:\n",
    "        x = float(a[0:2])\n",
    "        y = float(a[3:])\n",
    "    x *= 60\n",
    "    z = (x+y)/1440\n",
    "    return z\n"
   ]
  },
  {
   "cell_type": "code",
   "execution_count": 68,
   "id": "406cff3d-c30a-4e32-9b5a-14748650c095",
   "metadata": {
    "scrolled": true
   },
   "outputs": [
    {
     "name": "stdout",
     "output_type": "stream",
     "text": [
      "['8:07', '15:37', '8:55', '16:25', '9:45', '17:14', '10:35', '18:00', '11:28', '18:46', '12:22', '19:31', '13:24', '20:16', '3:22', '21:01', '4:07', '21:46', '4:50', '11:58', '5:31', '12:56', '6:08', '13:45', '6:47', '14:25', '7:22', '15:00', '7:59', '15:34', '8:34', '16:08', '9:10', '16:41', '9:45', '17:12', '10:21', '17:45', '10:57', '18:15', '11:38', '18:48', '12:25', '19:20', '2:22', '19:52', '2:58', '20:30', '3:37', '10:44', '4:23', '11:55', '5:15', '12:57', '6:09', '13:50', '7:05', '14:39', '7:58', '15:27', '8:50', '16:10', '9:40', '16:52', '10:30', '17:34', '11:19', '18:12', '12:10', '18:49', '1:32', '19:24', '2:13', '20:00', '2:54', '9:54', '3:39', '11:15', '4:29', '12:22', '5:21', '13:14']\n",
      "  \n",
      "[1.338, 1.651, 2.372, 2.684, 3.406, 3.718, 4.441, 4.75, 5.478, 5.782, 6.515, 6.813, 7.558, 7.844, 8.14, 8.876, 9.172, 9.907, 10.201, 10.499, 11.23, 11.539, 12.256, 12.573, 13.283, 13.601, 14.307, 14.625, 15.333, 15.649, 16.357, 16.672, 17.382, 17.695, 18.406, 18.717, 19.431, 19.74, 20.456, 20.76, 21.485, 21.783, 22.517, 22.806, 23.099, 23.828, 24.124, 24.854, 25.151, 25.447, 26.183, 26.497, 27.219, 27.54, 28.256, 28.576, 29.295, 29.61, 30.332, 30.644, 31.368, 31.674, 32.403, 32.703, 33.438, 33.732, 34.472, 34.758, 35.507, 35.784, 36.064, 36.808, 37.092, 37.833, 38.121, 38.412, 39.152, 39.469, 40.187, 40.515, 41.223, 41.551]\n"
     ]
    }
   ],
   "source": [
    "data = np.genfromtxt('ASTR19_F24_group_project_data.txt', dtype=[('day', 'i8'), ('time', 'U6'),('height', 'f8')])\n",
    "\n",
    "day = []\n",
    "time = []\n",
    "height = []\n",
    "\n",
    "for i in range (82):\n",
    "    day.append(data[i][0])\n",
    "    time.append(data[i][1])\n",
    "    height.append(data[i][2])\n",
    "\n",
    "real_Day = []\n",
    "for i in range (len(time)):\n",
    "    x = day[i] + timeToDecimal(time[i])\n",
    "    x_1 = round(x, 3)\n",
    "    real_Day.append(x_1)\n",
    "    \n",
    "    \n",
    "# for loop it so that you take the string and convert it to 2 floats one for hours and one for min then you combine them and add to the\n",
    "# respected day number to get the decimal place. \n",
    "\n",
    "#print(day)\n",
    "#print(\"  \")\n",
    "print(time)\n",
    "print(\"  \")\n",
    "print(real_Day)"
   ]
  },
  {
   "cell_type": "code",
   "execution_count": null,
   "id": "2648946c-8dc5-4d67-a9ce-7fd5fabb3f7a",
   "metadata": {},
   "outputs": [],
   "source": []
  }
 ],
 "metadata": {
  "kernelspec": {
   "display_name": "Python 3 (ipykernel)",
   "language": "python",
   "name": "python3"
  },
  "language_info": {
   "codemirror_mode": {
    "name": "ipython",
    "version": 3
   },
   "file_extension": ".py",
   "mimetype": "text/x-python",
   "name": "python",
   "nbconvert_exporter": "python",
   "pygments_lexer": "ipython3",
   "version": "3.12.7"
  }
 },
 "nbformat": 4,
 "nbformat_minor": 5
}
